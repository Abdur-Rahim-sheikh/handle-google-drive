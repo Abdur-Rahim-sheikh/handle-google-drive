{
  "cells": [
    {
      "cell_type": "markdown",
      "metadata": {
        "id": "JdVadWvo-BTp"
      },
      "source": [
        "**This script will take a folder name from you. In this process it will ask some permission from you. (It's totally safe to give permission as fully controlled by google).**<br>\n",
        "OR you can just empy the trash only executing last 2 cell <br>\n",
        "Next it will delete the file. and finally empty the trash."
      ]
    },
    {
      "cell_type": "code",
      "execution_count": null,
      "metadata": {
        "colab": {
          "base_uri": "https://localhost:8080/"
        },
        "id": "bQXYg-H850FZ",
        "outputId": "f887c6f4-53d5-49ed-a384-dadaeb38b686"
      },
      "outputs": [],
      "source": [
        "from google.colab import drive\n",
        "drive.mount('/content/drive')\n",
        "%cd /content/drive/MyDrive"
      ]
    },
    {
      "cell_type": "code",
      "execution_count": 2,
      "metadata": {
        "id": "6v6cKZxC6ftv"
      },
      "outputs": [],
      "source": [
        "import os\n",
        "import shutil"
      ]
    },
    {
      "cell_type": "code",
      "execution_count": null,
      "metadata": {
        "colab": {
          "base_uri": "https://localhost:8080/"
        },
        "id": "4vXNVQjv_lxB",
        "outputId": "06c325d9-4384-4612-e76f-6408894c3c08"
      },
      "outputs": [],
      "source": [
        "print(os.getcwd())\n",
        "len(os.listdir())\n"
      ]
    },
    {
      "cell_type": "code",
      "execution_count": null,
      "metadata": {
        "colab": {
          "base_uri": "https://localhost:8080/"
        },
        "id": "Q9t442rd6OPK",
        "outputId": "8b3b3a62-e8d3-4985-cf6e-04f5a42b02ab"
      },
      "outputs": [],
      "source": [
        "# run this cell if want to delete a folder give . if the files are in the surface\n",
        "paths_to_destroy = os.path.join(os.getcwd() , input(\"give path: \"))\n",
        "paths_to_destroy = paths_to_destroy.rstrip(\"/.\")\n",
        "if os.path.exists(paths_to_destroy):\n",
        "  print(\"going to destroy: \",paths_to_destroy)\n",
        "else:\n",
        "  print(paths_to_destroy, \"path does not exists\")\n",
        "\n",
        "\n",
        "print(paths_to_destroy,\" path has: \",len(os.listdir(paths_to_destroy)),\" file\")"
      ]
    },
    {
      "cell_type": "code",
      "execution_count": null,
      "metadata": {
        "colab": {
          "base_uri": "https://localhost:8080/"
        },
        "id": "5_UhgZut7XOu",
        "outputId": "9965eadc-9527-4e51-bf28-fd8efe075c53"
      },
      "outputs": [],
      "source": [
        "# run this cell if you want to delete with a specific file extension like (.jpg,.mp4) from above file\n",
        "filter = input(\"give the keyword to filter: \")\n",
        "\n",
        "paths_to_destroy = [os.path.join(paths_to_destroy,x) for x in os.listdir(paths_to_destroy) if x.endswith(filter)]\n",
        "print(\"left files \",len(paths_to_destroy))\n",
        "print(paths_to_destroy[:5])"
      ]
    },
    {
      "cell_type": "code",
      "execution_count": 46,
      "metadata": {
        "id": "eNUWDNVxBt-F"
      },
      "outputs": [],
      "source": [
        "for path in paths_to_destroy:\n",
        "  if os.path.isfile(path):\n",
        "    os.remove(path)\n",
        "  else:\n",
        "    shutil.rmtree(path)"
      ]
    },
    {
      "cell_type": "code",
      "execution_count": 6,
      "metadata": {
        "id": "R2h5bQ_w8-Ch"
      },
      "outputs": [],
      "source": [
        "# https://stackoverflow.com/a/61174372/17957276\n",
        "\n",
        "from pydrive.auth import GoogleAuth\n",
        "from pydrive.drive import GoogleDrive\n",
        "from google.colab import auth\n",
        "from oauth2client.client import GoogleCredentials\n",
        "\n",
        "auth.authenticate_user()\n",
        "gauth = GoogleAuth()\n",
        "gauth.credentials = GoogleCredentials.get_application_default()\n",
        "my_drive = GoogleDrive(gauth)"
      ]
    },
    {
      "cell_type": "code",
      "execution_count": null,
      "metadata": {
        "colab": {
          "base_uri": "https://localhost:8080/"
        },
        "id": "W4EIAeXi9LPB",
        "outputId": "197f8ada-68ec-47f5-8f0c-88e09e7eb99e"
      },
      "outputs": [],
      "source": [
        "files_in_trash = my_drive.ListFile({'q': \"trashed = true\"}).GetList()\n",
        "print(len(files_in_trash),\" file to delete\")\n",
        "# print(\"total to delte \",len(files_in_trash))\n",
        "for a_file in files_in_trash:\n",
        "    # print the name of the file being deleted.\n",
        "    print(f\"the file {a_file['title']}, is about to get deleted permanently.\")\n",
        "    # delete the file permanently.\n",
        "    a_file.Delete()"
      ]
    }
  ],
  "metadata": {
    "colab": {
      "name": "permanently deleting from drive.ipynb",
      "provenance": []
    },
    "kernelspec": {
      "display_name": "Python 3",
      "name": "python3"
    },
    "language_info": {
      "name": "python"
    }
  },
  "nbformat": 4,
  "nbformat_minor": 0
}
