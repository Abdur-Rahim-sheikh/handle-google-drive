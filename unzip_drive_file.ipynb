{
  "cells": [
    {
      "cell_type": "code",
      "execution_count": null,
      "metadata": {
        "colab": {
          "base_uri": "https://localhost:8080/"
        },
        "id": "YR-o5bsSjIUl",
        "outputId": "99d84eca-e237-46dd-ef4c-73f77c727ae1"
      },
      "outputs": [],
      "source": [
        "from google.colab import drive\n",
        "drive.mount('/content/drive/',force_remount=True)"
      ]
    },
    {
      "cell_type": "code",
      "execution_count": null,
      "metadata": {
        "colab": {
          "base_uri": "https://localhost:8080/"
        },
        "id": "OlS4b8umjCxs",
        "outputId": "e209710c-472f-4421-b18c-ce7f90c5a562"
      },
      "outputs": [],
      "source": [
        "import zipfile\n",
        "import os\n",
        "%cd /content/drive/MyDrive/zipped_dataset\n",
        "path = input(\"give file name from zipped_dataset directory or give path: \")\n",
        "path_to_zip_file = os.path.join(os.getcwd(),path) if \"/\" not in path else os.path.join('/content/drive/MyDrive',path)\n",
        "\n",
        "if os.path.isfile(path_to_zip_file) == False:\n",
        "  print(\"given file path is wrong\")"
      ]
    },
    {
      "cell_type": "code",
      "execution_count": null,
      "metadata": {
        "colab": {
          "base_uri": "https://localhost:8080/"
        },
        "id": "Bi84MCyZx_GA",
        "outputId": "15e6669a-f2ab-4b47-a3bc-70748485f4d2"
      },
      "outputs": [],
      "source": [
        "extract_to = os.path.join(\"/content/drive/MyDrive\",input('give path to extract file: '))\n",
        "\n",
        "if os.path.isdir(extract_to) == False:\n",
        "  print(extract_to, \": given path is wrong\")"
      ]
    },
    {
      "cell_type": "code",
      "execution_count": null,
      "metadata": {
        "colab": {
          "base_uri": "https://localhost:8080/"
        },
        "id": "zL-gQ2FWtGIX",
        "outputId": "8ad7b1f6-0ff2-481c-cd2f-36045f56ebee"
      },
      "outputs": [],
      "source": [
        "zip_name = path_to_zip_file.split(\"/\")[-1].rstrip(\".zip\")\n",
        "\n",
        "exist_ok = False\n",
        "extract_to = os.path.join(extract_to,zip_name)\n",
        "if os.path.isdir(extract_to):\n",
        "  exist_ok = True if \"y\" in input(\"looks like extracted file already exists\\nDo you want to proceed? (yes/no): \") else False\n",
        "\n",
        "os.makedirs(extract_to,exist_ok=exist_ok)\n",
        "print(\"here: \",extract_to)\n"
      ]
    },
    {
      "cell_type": "code",
      "execution_count": null,
      "metadata": {
        "colab": {
          "base_uri": "https://localhost:8080/",
          "height": 397
        },
        "id": "pwzh8JcDgwsH",
        "outputId": "477f662d-a1cf-46de-9265-02d712a08634"
      },
      "outputs": [],
      "source": [
        "from tqdm import tqdm\n",
        "with zipfile.ZipFile(path_to_zip_file) as zf:\n",
        "  for member in tqdm(zf.infolist(), desc='Extracting '):\n",
        "    try:\n",
        "      zf.extract(member, extract_to)\n",
        "    except zipfile.error as e:\n",
        "        pass"
      ]
    }
  ],
  "metadata": {
    "colab": {
      "name": "unzip drive file.ipynb",
      "provenance": []
    },
    "kernelspec": {
      "display_name": "Python 3",
      "name": "python3"
    },
    "language_info": {
      "name": "python"
    }
  },
  "nbformat": 4,
  "nbformat_minor": 0
}
