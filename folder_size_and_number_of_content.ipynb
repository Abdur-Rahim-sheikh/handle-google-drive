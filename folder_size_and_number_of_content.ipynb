{
  "cells": [
    {
      "cell_type": "markdown",
      "id": "757e2f43",
      "metadata": {
        "id": "757e2f43"
      },
      "source": [
        "## Run all these cell and in the final cell give your folder location and it will give you details in tree manner \n",
        "Dedicated to pijush bro 13-06-2022 3: 06 AM"
      ]
    },
    {
      "cell_type": "code",
      "execution_count": null,
      "id": "a73420cc",
      "metadata": {
        "id": "a73420cc"
      },
      "outputs": [],
      "source": [
        "# if it's google drive\n",
        "from google.colab import drive\n",
        "drive.mount('/content/drive')\n",
        "%cd /content/drive/My Drive"
      ]
    },
    {
      "cell_type": "code",
      "execution_count": null,
      "id": "d0401974",
      "metadata": {
        "id": "d0401974"
      },
      "outputs": [],
      "source": [
        "import os"
      ]
    },
    {
      "cell_type": "code",
      "execution_count": null,
      "id": "552445b2",
      "metadata": {
        "id": "552445b2"
      },
      "outputs": [],
      "source": [
        "size_name = ['bytes','KB','MB','GB','TB']\n",
        "# ubuntu divides by 1000\n",
        "def convert_size(size):\n",
        "    cnt = 0\n",
        "    while(size/1000>=1):\n",
        "        size/=1000\n",
        "        cnt+=1\n",
        "    return f'{size:.1f} {size_name[cnt]}'"
      ]
    },
    {
      "cell_type": "code",
      "execution_count": null,
      "id": "ed9df72d",
      "metadata": {
        "id": "ed9df72d"
      },
      "outputs": [],
      "source": [
        "directory_size = dict()\n",
        "def calculate_dir_size(path='.'):\n",
        "    total = 0\n",
        "    with os.scandir(path) as it:\n",
        "        for entry in it:\n",
        "            if entry.is_file():\n",
        "                total += entry.stat().st_size\n",
        "            elif entry.is_dir():\n",
        "                total += calculate_dir_size(entry.path)\n",
        "    directory_size[path] = convert_size(total)\n",
        "    return total\n"
      ]
    },
    {
      "cell_type": "code",
      "execution_count": null,
      "id": "500e839c",
      "metadata": {
        "id": "500e839c"
      },
      "outputs": [],
      "source": [
        "#  motivation from https://stackoverflow.com/a/9728478/9553866\n",
        "def list_files(startpath):\n",
        "    calculate_dir_size(startpath)\n",
        "    print(f'total: {directory_size[startpath]}\\n\\nCaution: this is the exact calculation.'\\\n",
        "            'total size might be slightly greater in your local drive\\n\\n')\n",
        "    \n",
        "    for root, dirs, files in os.walk(startpath):\n",
        "        level = root.replace(startpath, '').count(os.sep)\n",
        "        indent = ' '*4*(level-1)+('|'+'-' * 4 if level else '')\n",
        "        print('{}{} -> has ({} dir,{} files) ({})\\n'.format(indent, os.path.basename(root),len(dirs),len(files),directory_size[root]))"
      ]
    },
    {
      "cell_type": "markdown",
      "source": [
        "## Think before you do give a specific folder path"
      ],
      "metadata": {
        "id": "aeX2D4q5trCb"
      },
      "id": "aeX2D4q5trCb"
    },
    {
      "cell_type": "code",
      "execution_count": null,
      "id": "c366ca4c",
      "metadata": {
        "scrolled": true,
        "id": "c366ca4c"
      },
      "outputs": [],
      "source": [
        "\n",
        "\n",
        "starts = input('Give your folder location: ')\n",
        "\n",
        "\n",
        "root = os.getcwd()+'/'+starts\n",
        "if not os.path.isdir(root):\n",
        "  print(f'This {starts} path does not exist please check again')\n",
        "print('giving descriptions for ',root.replace('/content/drive/MyDrive/',''))\n",
        "list_files(root)"
      ]
    },
    {
      "cell_type": "code",
      "execution_count": null,
      "id": "79f8addf",
      "metadata": {
        "id": "79f8addf"
      },
      "outputs": [],
      "source": [
        ""
      ]
    }
  ],
  "metadata": {
    "kernelspec": {
      "display_name": "Python 3 (ipykernel)",
      "language": "python",
      "name": "python3"
    },
    "language_info": {
      "codemirror_mode": {
        "name": "ipython",
        "version": 3
      },
      "file_extension": ".py",
      "mimetype": "text/x-python",
      "name": "python",
      "nbconvert_exporter": "python",
      "pygments_lexer": "ipython3",
      "version": "3.9.7"
    },
    "colab": {
      "name": "folder size and number of content.ipynb",
      "provenance": []
    }
  },
  "nbformat": 4,
  "nbformat_minor": 5
}